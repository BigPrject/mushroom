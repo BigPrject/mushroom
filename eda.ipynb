{
 "cells": [
  {
   "cell_type": "code",
   "execution_count": null,
   "id": "eb4d232e-f53c-4827-91f6-9ab23d6f3a5c",
   "metadata": {},
   "outputs": [],
   "source": [
    "import pandas as pd\n",
    "import matplotlib.pyplot as plt\n",
    "import seaborn as sns"
   ]
  },
  {
   "cell_type": "code",
   "execution_count": null,
   "id": "f559931b-5517-4d33-ad99-1c916c12d125",
   "metadata": {},
   "outputs": [],
   "source": [
    "df_train = pd.read_csv(\"data/train.csv\")\n",
    "df_test = pd.read_csv(\"data/test.csv\")\n",
    "\n",
    "print(df_test.shape)\n",
    "print(df_train.shape)"
   ]
  },
  {
   "cell_type": "code",
   "execution_count": null,
   "id": "2b4a4349-c46b-4dec-9faa-fb20128baa6b",
   "metadata": {},
   "outputs": [],
   "source": [
    "#Data Inspection\n",
    "df_train.head()"
   ]
  },
  {
   "cell_type": "code",
   "execution_count": null,
   "id": "85f72358-2554-43ed-902f-5ae6347b910b",
   "metadata": {},
   "outputs": [],
   "source": [
    "df_train.isnull().sum()\n"
   ]
  },
  {
   "cell_type": "code",
   "execution_count": null,
   "id": "3f9c6dd0-93e6-4d86-aff9-611f5ac508c9",
   "metadata": {
    "scrolled": true
   },
   "outputs": [],
   "source": [
    "#training dataset\n",
    "\n",
    "categorical_cols = df_train.select_dtypes(include = ['object']).columns\n",
    "for col in categorical_cols:\n",
    "    print(f\"\\n unique values in {col}\")\n",
    "    print(df_train[col].value_counts())"
   ]
  },
  {
   "cell_type": "code",
   "execution_count": null,
   "id": "bed77306-cc40-4338-ac3d-3a014bce2d88",
   "metadata": {},
   "outputs": [],
   "source": [
    "\n",
    "#test data set\n",
    "categorical_columns = df_test.select_dtypes(include=['object']).columns\n",
    "for col in categorical_columns:\n",
    "    print(f\"\\nUnique values in {col}:\")\n",
    "    print(df_test[col].value_counts())"
   ]
  },
  {
   "cell_type": "code",
   "execution_count": null,
   "id": "2b10505a-7798-4661-bd04-d49e35d2e67e",
   "metadata": {},
   "outputs": [],
   "source": [
    "# all our categorical values are mixed with numerical data, probably due to the noise added so we will remove\n",
    "# and set expectations for what the values should be, found these expectations by look at the intersection of training\n",
    "# and test data set\n",
    "df_train.head()\n",
    "\n"
   ]
  },
  {
   "cell_type": "code",
   "execution_count": null,
   "id": "63bbfe6c-2520-426e-bdba-1644a5f5e4f4",
   "metadata": {},
   "outputs": [],
   "source": [
    "\n",
    "category_mappings = {\n",
    "    'season': ['a', 'u', 'w', 's'],\n",
    "    'cap-shape': ['x', 'f', 's', 'b', 'o'],\n",
    "    'cap-surface': ['t', 's', 'y', 'h', 'g'],\n",
    "    'cap-color': ['n', 'y', 'w', 'g', 'e'],\n",
    "    'does-bruise-or-bleed': ['f', 't'],\n",
    "    'gill-attachment': ['a', 'd', 'x', 'e', 's'],\n",
    "    'gill-spacing': ['c', 'd', 'f'],\n",
    "    'gill-color': ['w', 'n', 'y', 'p', 'g'],\n",
    "    'stem-root': ['b', 's', 'r', 'c', 'f'],\n",
    "    'stem-surface': ['s', 'y', 'i', 't', 'g', 'k', 'h', 'f'],\n",
    "    'stem-color': ['w', 'n', 'y', 'g', 'o', 'e', 'u', 'p', 'k', 'r', 'l', 'b'],\n",
    "    'veil-type': ['u', 'w'],\n",
    "    'veil-color': ['w', 'y', 'n', 'u', 'k', 'e'],\n",
    "    'has-ring': ['f', 't'],\n",
    "    'ring-type': ['f', 'e', 'z', 'l', 'r', 'p', 'g', 'm'],\n",
    "    'spore-print-color': ['k', 'p', 'w', 'n', 'r', 'u', 'g'],\n",
    "    'habitat': ['d', 'g', 'l', 'm', 'h', 'w', 'p', 'u'],\n",
    "}"
   ]
  },
  {
   "cell_type": "code",
   "execution_count": null,
   "id": "0df3d663-1f63-425a-b97d-3b3ad85c7b08",
   "metadata": {},
   "outputs": [],
   "source": [
    "def clean_category(column, df, valid_category,threshold):\n",
    "    df[column] = df[column].astype(str)\n",
    "    counts = df[column].value_counts(normalize = True)\n",
    "\n",
    "\n",
    "    def map_category(value):\n",
    "        if value.replace('.','').isdigit():\n",
    "            return 'Other'\n",
    "\n",
    "        elif value.lower() in [cat.lower() for cat in valid_category]:\n",
    "            return next(cat for cat in valid_category if cat.lower() == value.lower())\n",
    "        elif counts.get(value,0) < threshold:\n",
    "            return 'Other'\n",
    "        else:\n",
    "            return value\n",
    "    df[column] = df[column].apply(map_category)\n",
    "\n",
    "    return df\n",
    "    "
   ]
  },
  {
   "cell_type": "code",
   "execution_count": null,
   "id": "474e56ad-c14e-47ec-aae5-21a4d629caaa",
   "metadata": {},
   "outputs": [],
   "source": [
    "for column, valid in category_mappings.items():\n",
    "    df_train  = clean_category(column,df_train,valid,0.001)\n",
    "    df_test = clean_category(column,df_test,valid,0.001)"
   ]
  },
  {
   "cell_type": "code",
   "execution_count": null,
   "id": "d4fdcffe-bc46-4496-9c69-9477cb2e6bb6",
   "metadata": {},
   "outputs": [],
   "source": []
  },
  {
   "cell_type": "code",
   "execution_count": null,
   "id": "ee4ae4af-af83-46d3-bb82-72d423e81495",
   "metadata": {},
   "outputs": [],
   "source": []
  },
  {
   "cell_type": "code",
   "execution_count": null,
   "id": "0a29ba32-3069-419d-b0a7-2ddd1ac1598d",
   "metadata": {},
   "outputs": [],
   "source": [
    "for column in category_mappings.keys():\n",
    "    print(f\"\\nUniques in {column} after cleaning:\")\n",
    "    print(df_test[column].value_counts())"
   ]
  },
  {
   "cell_type": "code",
   "execution_count": null,
   "id": "9d5b8621-6e26-4da9-b9c3-05e00517f1fb",
   "metadata": {},
   "outputs": [],
   "source": []
  },
  {
   "cell_type": "code",
   "execution_count": null,
   "id": "c9ebc06c-c60a-4a0a-a892-0dec978e6f44",
   "metadata": {},
   "outputs": [],
   "source": []
  },
  {
   "cell_type": "code",
   "execution_count": null,
   "id": "13c46741-f7f7-4627-979e-3e2928a9bf96",
   "metadata": {},
   "outputs": [],
   "source": []
  },
  {
   "cell_type": "code",
   "execution_count": null,
   "id": "20d9dc20-1ffa-4a53-a9bc-167d79f993c0",
   "metadata": {},
   "outputs": [],
   "source": [
    "# for interpretability. \n",
    "#df_train['class'] = df_train['class'].replace({'e': 'Edible', 'p': 'Poisonous'})\n",
    "#df_train['season'] = df_train['season'].replace({'a':'autum','u':'summer', 'w': 'winter', 's':'spring'})"
   ]
  },
  {
   "cell_type": "code",
   "execution_count": null,
   "id": "ec8132a8-b354-4108-984f-c369ecb0b416",
   "metadata": {},
   "outputs": [],
   "source": []
  },
  {
   "cell_type": "code",
   "execution_count": null,
   "id": "a57a451d-3967-4c5f-ab1c-ddbd0ab9e7f7",
   "metadata": {},
   "outputs": [],
   "source": []
  },
  {
   "cell_type": "code",
   "execution_count": null,
   "id": "f2f02c3e-ee89-4ff9-b0a7-a5ad1ebfad64",
   "metadata": {},
   "outputs": [],
   "source": []
  },
  {
   "cell_type": "code",
   "execution_count": null,
   "id": "a70f84a3-5afd-45a6-8d6e-a6c165eb5833",
   "metadata": {},
   "outputs": [],
   "source": []
  },
  {
   "cell_type": "code",
   "execution_count": null,
   "id": "da1d97da-0d0e-4b5d-ab6b-0560353cbfd7",
   "metadata": {},
   "outputs": [],
   "source": []
  },
  {
   "cell_type": "code",
   "execution_count": null,
   "id": "17e620e1-2146-458e-bc85-7abb479a4878",
   "metadata": {},
   "outputs": [],
   "source": []
  },
  {
   "cell_type": "code",
   "execution_count": null,
   "id": "d157e7d8-2a7b-40d3-ac48-1291acd059dc",
   "metadata": {},
   "outputs": [],
   "source": [
    "counts = df_test.select_dtypes(include = ['object']).columns.value_counts()\n",
    "print(counts)"
   ]
  },
  {
   "cell_type": "code",
   "execution_count": null,
   "id": "1e41c94f-f092-46f3-8315-0cd22fd87dd5",
   "metadata": {},
   "outputs": [],
   "source": [
    "#Visualization"
   ]
  },
  {
   "cell_type": "code",
   "execution_count": null,
   "id": "a1131c32-cbda-40f1-b02b-c9f0ecdf5768",
   "metadata": {},
   "outputs": [],
   "source": [
    "counts = df_train['class'].value_counts()\n",
    "plt.figure(figsize=(8, 6))\n",
    "sns.barplot(x=counts.index, y=counts.values, palette='viridis')\n",
    "plt.title('Distribution of Edible and Poisonous Mushrooms')\n",
    "plt.xlabel('Class')\n",
    "plt.ylabel('Count')\n",
    "plt.show()"
   ]
  },
  {
   "cell_type": "code",
   "execution_count": null,
   "id": "65fda3e9-3f74-41ba-a69e-bf7a961fc996",
   "metadata": {},
   "outputs": [],
   "source": [
    "cap_color_counts = df_train['cap-color'].value_counts()\n",
    "\n",
    "plt.figure(figsize=(12, 6))\n",
    "sns.barplot(x=cap_color_counts.index, y=cap_color_counts.values, palette='viridis')\n",
    "plt.title('Distribution of Cap Colors')\n",
    "plt.xlabel('Cap Color')\n",
    "plt.ylabel('Count')\n",
    "plt.show()"
   ]
  },
  {
   "cell_type": "code",
   "execution_count": null,
   "id": "d668b8f0-8277-48e9-adda-c196a7d0de10",
   "metadata": {},
   "outputs": [],
   "source": [
    "plt.figure(figsize=(8, 6))\n",
    "sns.scatterplot(x='stem-height', y='stem-width', hue='class', data=df_train, palette='viridis', alpha=0.7)\n",
    "plt.title('Stem Height vs. Stem Width')\n",
    "plt.xlabel('Stem Height (cm)')\n",
    "plt.ylabel('Stem Width (mm)')\n",
    "plt.legend(title='Class')\n",
    "plt.show()"
   ]
  },
  {
   "cell_type": "code",
   "execution_count": null,
   "id": "7e88766e-3aad-4e63-ab72-7d7e402e9e94",
   "metadata": {},
   "outputs": [],
   "source": [
    "#too noisy can't extrapoate anything, poisnous stem  width and height  tend to be proportional ?"
   ]
  },
  {
   "cell_type": "code",
   "execution_count": null,
   "id": "e1c7f09e-0c14-4aba-92d8-212f38ab68d2",
   "metadata": {},
   "outputs": [],
   "source": [
    "df_test.head()"
   ]
  },
  {
   "cell_type": "code",
   "execution_count": null,
   "id": "8fde4f3b-ad38-49b4-99ef-9961eac7ca69",
   "metadata": {},
   "outputs": [],
   "source": [
    "output_train = 'data/cleanedtrain.csv'\n",
    "output_test = 'data/cleanedtest.csv'\n",
    "df_train.to_csv(output_train, index=False)\n",
    "df_test.to_csv(output_test,index = False)\n"
   ]
  },
  {
   "cell_type": "code",
   "execution_count": null,
   "id": "8bc1a854-7e9f-4ef2-86c6-2e8cce1e2df5",
   "metadata": {},
   "outputs": [],
   "source": []
  }
 ],
 "metadata": {
  "kernelspec": {
   "display_name": "venv",
   "language": "python",
   "name": "venv"
  },
  "language_info": {
   "codemirror_mode": {
    "name": "ipython",
    "version": 3
   },
   "file_extension": ".py",
   "mimetype": "text/x-python",
   "name": "python",
   "nbconvert_exporter": "python",
   "pygments_lexer": "ipython3",
   "version": "3.12.4"
  }
 },
 "nbformat": 4,
 "nbformat_minor": 5
}
